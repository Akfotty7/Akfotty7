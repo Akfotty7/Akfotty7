{
  "nbformat": 4,
  "nbformat_minor": 0,
  "metadata": {
    "colab": {
      "provenance": [],
      "authorship_tag": "ABX9TyNvUcVo7WD0HsdcoyHFNxEe",
      "include_colab_link": true
    },
    "kernelspec": {
      "name": "python3",
      "display_name": "Python 3"
    },
    "language_info": {
      "name": "python"
    }
  },
  "cells": [
    {
      "cell_type": "markdown",
      "metadata": {
        "id": "view-in-github",
        "colab_type": "text"
      },
      "source": [
        "<a href=\"https://colab.research.google.com/github/Akfotty7/Akfotty7/blob/main/irrigationsystem.ipynb\" target=\"_parent\"><img src=\"https://colab.research.google.com/assets/colab-badge.svg\" alt=\"Open In Colab\"/></a>"
      ]
    },
    {
      "cell_type": "code",
      "execution_count": null,
      "metadata": {
        "colab": {
          "base_uri": "https://localhost:8080/"
        },
        "id": "itf_BgmXYuLf",
        "outputId": "e9642a2d-2709-4d8e-e102-5d12b74f42eb"
      },
      "outputs": [
        {
          "output_type": "stream",
          "name": "stdout",
          "text": [
            "\n",
            "Day 1\n",
            "Irrigating the field...\n",
            "Irrigation completed.\n",
            "Performance: Moderate\n",
            "\n",
            "Day 2\n",
            "Performance: Good\n",
            "\n",
            "Day 3\n",
            "Irrigating the field...\n",
            "Irrigation completed.\n",
            "Performance: Poor\n",
            "\n",
            "Day 4\n",
            "Performance: Good\n",
            "\n",
            "Day 5\n",
            "Performance: Good\n",
            "\n",
            "Day 6\n",
            "Performance: Good\n",
            "\n",
            "Day 7\n",
            "Performance: Good\n"
          ]
        }
      ],
      "source": [
        "import random\n",
        "import time\n",
        "\n",
        "class IrrigationSystem:\n",
        "    def __init__(self, field_size):\n",
        "        self.field_size = field_size\n",
        "        self.soil_moisture = random.uniform(30, 70)  # Initial soil moisture level\n",
        "        self.weather_conditions = {\"rain\": False, \"temperature\": 25}\n",
        "\n",
        "    def measure_soil_moisture(self):\n",
        "        # Simulating soil moisture measurement\n",
        "        self.soil_moisture = random.uniform(20, 80)\n",
        "\n",
        "    def get_weather_conditions(self):\n",
        "        # Simulating weather conditions\n",
        "        self.weather_conditions[\"rain\"] = random.choice([True, False])\n",
        "        self.weather_conditions[\"temperature\"] = random.uniform(20, 35)\n",
        "\n",
        "    def decide_irrigation(self):\n",
        "        # Simple rule-based decision: irrigate if soil moisture is below 40%\n",
        "        if self.soil_moisture < 40:\n",
        "            return True\n",
        "        else:\n",
        "            return False\n",
        "\n",
        "    def irrigate(self):\n",
        "        print(\"Irrigating the field...\")\n",
        "        # Simulating irrigation process\n",
        "        time.sleep(2)\n",
        "        print(\"Irrigation completed.\")\n",
        "\n",
        "    def evaluate_performance(self):\n",
        "        # Evaluate the system's performance (for demonstration purposes)\n",
        "        if self.soil_moisture > 50:\n",
        "            print(\"Performance: Good\")\n",
        "        elif self.soil_moisture > 30:\n",
        "            print(\"Performance: Moderate\")\n",
        "        else:\n",
        "            print(\"Performance: Poor\")\n",
        "\n",
        "    def run(self, days):\n",
        "        for day in range(1, days + 1):\n",
        "            print(f\"\\nDay {day}\")\n",
        "            self.measure_soil_moisture()\n",
        "            self.get_weather_conditions()\n",
        "\n",
        "            if self.decide_irrigation():\n",
        "                self.irrigate()\n",
        "\n",
        "            self.evaluate_performance()\n",
        "\n",
        "            # Simulating a day passing\n",
        "            time.sleep(1)\n",
        "\n",
        "if __name__ == \"__main__\":\n",
        "    field_size = \"small\"  # You can change this to \"medium\" or \"large\" based on your field size\n",
        "    irrigation_system = IrrigationSystem(field_size)\n",
        "    irrigation_system.run(days=7)  # Simulate the system's operation for 7 days\n"
      ]
    },
    {
      "cell_type": "code",
      "source": [
        "import pandas as pd\n",
        "import pandas as np\n",
        "import math\n",
        "import sklearn\n",
        "from sklearn.model_selection import train_test_split\n",
        "from sklearn.metrics import mean_squared_error,r2_score,mean_absolute_error\n",
        "import matplotlib.pyplot as plt\n",
        "import seaborn as sb\n",
        "from sklearn import preprocessing\n",
        "data=pd.read_csv(\"/content/rainfall.csv\")\n",
        "print(\"Data heads:\")\n",
        "print(data.head())\n",
        "print(\"Null values in the dataset before preprocessing:\")\n",
        "print(data.isnull().sum())\n",
        "print(\"Filling null values with mean of that particular column\")\n",
        "data=data.fillna(np.mean(data))\n",
        "print(\"Mean of data:\")\n",
        "print(np.mean(data))\n",
        "print(\"Null values in the dataset after preprocessing:\")\n",
        "print(data.isnull().sum())\n"
      ],
      "metadata": {
        "id": "5SSb8gsT-x_D",
        "colab": {
          "base_uri": "https://localhost:8080/",
          "height": 1000
        },
        "outputId": "cabc3b6b-9f24-4374-dd0a-a36bc3d20414"
      },
      "execution_count": 14,
      "outputs": [
        {
          "output_type": "stream",
          "name": "stdout",
          "text": [
            "Data heads:\n",
            "                 SUBDIVISION  YEAR   JAN    FEB   MAR    APR    MAY    JUN  \\\n",
            "0  ANDAMAN & NICOBAR ISLANDS  1901  49.2   87.1  29.2    2.3  528.8  517.5   \n",
            "1  ANDAMAN & NICOBAR ISLANDS  1902   0.0  159.8  12.2    0.0  446.1  537.1   \n",
            "2  ANDAMAN & NICOBAR ISLANDS  1903  12.7  144.0   0.0    1.0  235.1  479.9   \n",
            "3  ANDAMAN & NICOBAR ISLANDS  1904   9.4   14.7   0.0  202.4  304.5  495.1   \n",
            "4  ANDAMAN & NICOBAR ISLANDS  1905   1.3    0.0   3.3   26.9  279.5  628.7   \n",
            "\n",
            "     JUL    AUG    SEP    OCT    NOV    DEC  ANNUAL  Jan-Feb  Mar-May  \\\n",
            "0  365.1  481.1  332.6  388.5  558.2   33.6  3373.2    136.3    560.3   \n",
            "1  228.9  753.7  666.2  197.2  359.0  160.5  3520.7    159.8    458.3   \n",
            "2  728.4  326.7  339.0  181.2  284.4  225.0  2957.4    156.7    236.1   \n",
            "3  502.0  160.1  820.4  222.2  308.7   40.1  3079.6     24.1    506.9   \n",
            "4  368.7  330.5  297.0  260.7   25.4  344.7  2566.7      1.3    309.7   \n",
            "\n",
            "   Jun-Sep  Oct-Dec  \n",
            "0   1696.3    980.3  \n",
            "1   2185.9    716.7  \n",
            "2   1874.0    690.6  \n",
            "3   1977.6    571.0  \n",
            "4   1624.9    630.8  \n",
            "Null values in the dataset before preprocessing:\n",
            "SUBDIVISION     0\n",
            "YEAR            0\n",
            "JAN             4\n",
            "FEB             3\n",
            "MAR             6\n",
            "APR             4\n",
            "MAY             3\n",
            "JUN             5\n",
            "JUL             7\n",
            "AUG             4\n",
            "SEP             6\n",
            "OCT             7\n",
            "NOV            11\n",
            "DEC            10\n",
            "ANNUAL         26\n",
            "Jan-Feb         6\n",
            "Mar-May         9\n",
            "Jun-Sep        10\n",
            "Oct-Dec        13\n",
            "dtype: int64\n",
            "Filling null values with mean of that particular column\n"
          ]
        },
        {
          "output_type": "error",
          "ename": "AttributeError",
          "evalue": "ignored",
          "traceback": [
            "\u001b[0;31m---------------------------------------------------------------------------\u001b[0m",
            "\u001b[0;31mAttributeError\u001b[0m                            Traceback (most recent call last)",
            "\u001b[0;32m<ipython-input-14-2afd3aa62fa7>\u001b[0m in \u001b[0;36m<cell line: 16>\u001b[0;34m()\u001b[0m\n\u001b[1;32m     14\u001b[0m \u001b[0mprint\u001b[0m\u001b[0;34m(\u001b[0m\u001b[0mdata\u001b[0m\u001b[0;34m.\u001b[0m\u001b[0misnull\u001b[0m\u001b[0;34m(\u001b[0m\u001b[0;34m)\u001b[0m\u001b[0;34m.\u001b[0m\u001b[0msum\u001b[0m\u001b[0;34m(\u001b[0m\u001b[0;34m)\u001b[0m\u001b[0;34m)\u001b[0m\u001b[0;34m\u001b[0m\u001b[0;34m\u001b[0m\u001b[0m\n\u001b[1;32m     15\u001b[0m \u001b[0mprint\u001b[0m\u001b[0;34m(\u001b[0m\u001b[0;34m\"Filling null values with mean of that particular column\"\u001b[0m\u001b[0;34m)\u001b[0m\u001b[0;34m\u001b[0m\u001b[0;34m\u001b[0m\u001b[0m\n\u001b[0;32m---> 16\u001b[0;31m \u001b[0mdata\u001b[0m\u001b[0;34m=\u001b[0m\u001b[0mdata\u001b[0m\u001b[0;34m.\u001b[0m\u001b[0mfillna\u001b[0m\u001b[0;34m(\u001b[0m\u001b[0mnp\u001b[0m\u001b[0;34m.\u001b[0m\u001b[0mmean\u001b[0m\u001b[0;34m(\u001b[0m\u001b[0mdata\u001b[0m\u001b[0;34m)\u001b[0m\u001b[0;34m)\u001b[0m\u001b[0;34m\u001b[0m\u001b[0;34m\u001b[0m\u001b[0m\n\u001b[0m\u001b[1;32m     17\u001b[0m \u001b[0mprint\u001b[0m\u001b[0;34m(\u001b[0m\u001b[0;34m\"Mean of data:\"\u001b[0m\u001b[0;34m)\u001b[0m\u001b[0;34m\u001b[0m\u001b[0;34m\u001b[0m\u001b[0m\n\u001b[1;32m     18\u001b[0m \u001b[0mprint\u001b[0m\u001b[0;34m(\u001b[0m\u001b[0mnp\u001b[0m\u001b[0;34m.\u001b[0m\u001b[0mmean\u001b[0m\u001b[0;34m(\u001b[0m\u001b[0mdata\u001b[0m\u001b[0;34m)\u001b[0m\u001b[0;34m)\u001b[0m\u001b[0;34m\u001b[0m\u001b[0;34m\u001b[0m\u001b[0m\n",
            "\u001b[0;32m/usr/local/lib/python3.10/dist-packages/pandas/__init__.py\u001b[0m in \u001b[0;36m__getattr__\u001b[0;34m(name)\u001b[0m\n\u001b[1;32m    262\u001b[0m         \u001b[0;32mreturn\u001b[0m \u001b[0m_SparseArray\u001b[0m\u001b[0;34m\u001b[0m\u001b[0;34m\u001b[0m\u001b[0m\n\u001b[1;32m    263\u001b[0m \u001b[0;34m\u001b[0m\u001b[0m\n\u001b[0;32m--> 264\u001b[0;31m     \u001b[0;32mraise\u001b[0m \u001b[0mAttributeError\u001b[0m\u001b[0;34m(\u001b[0m\u001b[0;34mf\"module 'pandas' has no attribute '{name}'\"\u001b[0m\u001b[0;34m)\u001b[0m\u001b[0;34m\u001b[0m\u001b[0;34m\u001b[0m\u001b[0m\n\u001b[0m\u001b[1;32m    265\u001b[0m \u001b[0;34m\u001b[0m\u001b[0m\n\u001b[1;32m    266\u001b[0m \u001b[0;34m\u001b[0m\u001b[0m\n",
            "\u001b[0;31mAttributeError\u001b[0m: module 'pandas' has no attribute 'mean'"
          ]
        }
      ]
    },
    {
      "cell_type": "code",
      "source": [
        "\n",
        "print(\"Info:\")\n",
        "print(data.info())\n",
        "print(\"Group by:\")\n",
        "data.groupby('SUBDIVISION').size()\n",
        "\n"
      ],
      "metadata": {
        "colab": {
          "base_uri": "https://localhost:8080/"
        },
        "id": "VkRTBPVoWcm4",
        "outputId": "2e81b8cf-c14f-4ac3-f3a1-5ca0b6ed2c29"
      },
      "execution_count": 8,
      "outputs": [
        {
          "output_type": "stream",
          "name": "stdout",
          "text": [
            "Info:\n",
            "<class 'pandas.core.frame.DataFrame'>\n",
            "RangeIndex: 4116 entries, 0 to 4115\n",
            "Data columns (total 19 columns):\n",
            " #   Column       Non-Null Count  Dtype  \n",
            "---  ------       --------------  -----  \n",
            " 0   SUBDIVISION  4116 non-null   object \n",
            " 1   YEAR         4116 non-null   int64  \n",
            " 2   JAN          4112 non-null   float64\n",
            " 3   FEB          4113 non-null   float64\n",
            " 4   MAR          4110 non-null   float64\n",
            " 5   APR          4112 non-null   float64\n",
            " 6   MAY          4113 non-null   float64\n",
            " 7   JUN          4111 non-null   float64\n",
            " 8   JUL          4109 non-null   float64\n",
            " 9   AUG          4112 non-null   float64\n",
            " 10  SEP          4110 non-null   float64\n",
            " 11  OCT          4109 non-null   float64\n",
            " 12  NOV          4105 non-null   float64\n",
            " 13  DEC          4106 non-null   float64\n",
            " 14  ANNUAL       4090 non-null   float64\n",
            " 15  Jan-Feb      4110 non-null   float64\n",
            " 16  Mar-May      4107 non-null   float64\n",
            " 17  Jun-Sep      4106 non-null   float64\n",
            " 18  Oct-Dec      4103 non-null   float64\n",
            "dtypes: float64(17), int64(1), object(1)\n",
            "memory usage: 611.1+ KB\n",
            "None\n",
            "Group by:\n"
          ]
        },
        {
          "output_type": "execute_result",
          "data": {
            "text/plain": [
              "SUBDIVISION\n",
              "ANDAMAN & NICOBAR ISLANDS             110\n",
              "ARUNACHAL PRADESH                      97\n",
              "ASSAM & MEGHALAYA                     115\n",
              "BIHAR                                 115\n",
              "CHHATTISGARH                          115\n",
              "COASTAL ANDHRA PRADESH                115\n",
              "COASTAL KARNATAKA                     115\n",
              "EAST MADHYA PRADESH                   115\n",
              "EAST RAJASTHAN                        115\n",
              "EAST UTTAR PRADESH                    115\n",
              "GANGETIC WEST BENGAL                  115\n",
              "GUJARAT REGION                        115\n",
              "HARYANA DELHI & CHANDIGARH            115\n",
              "HIMACHAL PRADESH                      115\n",
              "JAMMU & KASHMIR                       115\n",
              "JHARKHAND                             115\n",
              "KERALA                                115\n",
              "KONKAN & GOA                          115\n",
              "LAKSHADWEEP                           114\n",
              "MADHYA MAHARASHTRA                    115\n",
              "MATATHWADA                            115\n",
              "NAGA MANI MIZO TRIPURA                115\n",
              "NORTH INTERIOR KARNATAKA              115\n",
              "ORISSA                                115\n",
              "PUNJAB                                115\n",
              "RAYALSEEMA                            115\n",
              "SAURASHTRA & KUTCH                    115\n",
              "SOUTH INTERIOR KARNATAKA              115\n",
              "SUB HIMALAYAN WEST BENGAL & SIKKIM    115\n",
              "TAMIL NADU                            115\n",
              "TELANGANA                             115\n",
              "UTTARAKHAND                           115\n",
              "VIDARBHA                              115\n",
              "WEST MADHYA PRADESH                   115\n",
              "WEST RAJASTHAN                        115\n",
              "WEST UTTAR PRADESH                    115\n",
              "dtype: int64"
            ]
          },
          "metadata": {},
          "execution_count": 8
        }
      ]
    },
    {
      "cell_type": "code",
      "source": [
        "\n",
        "plt.scatter(data.ANNUAL,data.JAN)\n",
        "print(\"Box Plot of annual rainfall data in years 1901-2015\")\n",
        "\n"
      ],
      "metadata": {
        "colab": {
          "base_uri": "https://localhost:8080/",
          "height": 447
        },
        "id": "rUYhND6GWvLQ",
        "outputId": "90c6fbc8-3066-417e-cae9-ee350448d236"
      },
      "execution_count": 12,
      "outputs": [
        {
          "output_type": "stream",
          "name": "stdout",
          "text": [
            "Box Plot of annual rainfall data in years 1901-2015\n"
          ]
        },
        {
          "output_type": "display_data",
          "data": {
            "text/plain": [
              "<Figure size 640x480 with 1 Axes>"
            ],
            "image/png": "[encoded data removed]"
          },
          "metadata": {}
        }
      ]
    },
    {
      "cell_type": "code",
      "source": [
        "print(\"Histograms showing the data from attributes (JANUARY to DECEMBER) of the years 1901-2015:\")\n",
        "data['JAN'].hist(bins=20)\n",
        "data['FEB'].hist(bins=20)\n",
        "data['MAR'].hist(bins=20)\n",
        "data['APR'].hist(bins=20)\n",
        "data['MAY'].hist(bins=20)\n",
        "data['JUN'].hist(bins=20)\n",
        "data['JUL'].hist(bins=20)\n",
        "data['AUG'].hist(bins=20)\n",
        "data['SEP'].hist(bins=20)\n",
        "data['OCT'].hist(bins=20)\n",
        "data['NOV'].hist(bins=20)\n",
        "data['DEC'].hist(bins=20)"
      ],
      "metadata": {
        "colab": {
          "base_uri": "https://localhost:8080/",
          "height": 464
        },
        "id": "pdBmfswFW949",
        "outputId": "c3aa0e76-8bff-4ee0-b65a-7e588cd7a8b6"
      },
      "execution_count": 13,
      "outputs": [
        {
          "output_type": "stream",
          "name": "stdout",
          "text": [
            "Histograms showing the data from attributes (JANUARY to DECEMBER) of the years 1901-2015:\n"
          ]
        },
        {
          "output_type": "execute_result",
          "data": {
            "text/plain": [
              "<Axes: >"
            ]
          },
          "metadata": {},
          "execution_count": 13
        },
        {
          "output_type": "display_data",
          "data": {
            "text/plain": [
              "<Figure size 640x480 with 1 Axes>"
            ],
            "image/png": "[encoded data removed]"
          },
          "metadata": {}
        }
      ]
    }
  ]
}